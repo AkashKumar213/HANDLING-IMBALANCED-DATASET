{
 "cells": [
  {
   "cell_type": "code",
   "execution_count": 3,
   "id": "c7916d00",
   "metadata": {},
   "outputs": [],
   "source": [
    "import numpy as np\n",
    "import pandas as pd\n",
    "import sklearn\n",
    "import scipy\n"
   ]
  },
  {
   "cell_type": "code",
   "execution_count": 4,
   "id": "7cae28ab",
   "metadata": {},
   "outputs": [],
   "source": [
    "import matplotlib.pyplot as plt\n",
    "import seaborn as sns\n",
    "from sklearn.metrics import classification_report, accuracy_score\n",
    "from sklearn.ensemble import IsolationForest\n"
   ]
  },
  {
   "cell_type": "code",
   "execution_count": 5,
   "id": "45e4fc41",
   "metadata": {},
   "outputs": [],
   "source": [
    "from sklearn.neighbors import LocalOutlierFactor\n",
    "from sklearn.svm import OneClassSVM\n"
   ]
  },
  {
   "cell_type": "code",
   "execution_count": 6,
   "id": "30622273",
   "metadata": {},
   "outputs": [],
   "source": [
    "from pylab import rcParams\n",
    "rcParams['figure.figsize']=14,8\n",
    "RANDOM_SPEED=42\n",
    "LABELS=[\"Normal\",\"Fraud\"]"
   ]
  },
  {
   "cell_type": "code",
   "execution_count": 7,
   "id": "f214e7d4",
   "metadata": {},
   "outputs": [
    {
     "data": {
      "text/html": [
       "<div>\n",
       "<style scoped>\n",
       "    .dataframe tbody tr th:only-of-type {\n",
       "        vertical-align: middle;\n",
       "    }\n",
       "\n",
       "    .dataframe tbody tr th {\n",
       "        vertical-align: top;\n",
       "    }\n",
       "\n",
       "    .dataframe thead th {\n",
       "        text-align: right;\n",
       "    }\n",
       "</style>\n",
       "<table border=\"1\" class=\"dataframe\">\n",
       "  <thead>\n",
       "    <tr style=\"text-align: right;\">\n",
       "      <th></th>\n",
       "      <th>Time</th>\n",
       "      <th>V1</th>\n",
       "      <th>V2</th>\n",
       "      <th>V3</th>\n",
       "      <th>V4</th>\n",
       "      <th>V5</th>\n",
       "      <th>V6</th>\n",
       "      <th>V7</th>\n",
       "      <th>V8</th>\n",
       "      <th>V9</th>\n",
       "      <th>...</th>\n",
       "      <th>V21</th>\n",
       "      <th>V22</th>\n",
       "      <th>V23</th>\n",
       "      <th>V24</th>\n",
       "      <th>V25</th>\n",
       "      <th>V26</th>\n",
       "      <th>V27</th>\n",
       "      <th>V28</th>\n",
       "      <th>Amount</th>\n",
       "      <th>Class</th>\n",
       "    </tr>\n",
       "  </thead>\n",
       "  <tbody>\n",
       "    <tr>\n",
       "      <th>0</th>\n",
       "      <td>0</td>\n",
       "      <td>-1.359807</td>\n",
       "      <td>-0.072781</td>\n",
       "      <td>2.536347</td>\n",
       "      <td>1.378155</td>\n",
       "      <td>-0.338321</td>\n",
       "      <td>0.462388</td>\n",
       "      <td>0.239599</td>\n",
       "      <td>0.098698</td>\n",
       "      <td>0.363787</td>\n",
       "      <td>...</td>\n",
       "      <td>-0.018307</td>\n",
       "      <td>0.277838</td>\n",
       "      <td>-0.110474</td>\n",
       "      <td>0.066928</td>\n",
       "      <td>0.128539</td>\n",
       "      <td>-0.189115</td>\n",
       "      <td>0.133558</td>\n",
       "      <td>-0.021053</td>\n",
       "      <td>149.62</td>\n",
       "      <td>0</td>\n",
       "    </tr>\n",
       "    <tr>\n",
       "      <th>1</th>\n",
       "      <td>0</td>\n",
       "      <td>1.191857</td>\n",
       "      <td>0.266151</td>\n",
       "      <td>0.166480</td>\n",
       "      <td>0.448154</td>\n",
       "      <td>0.060018</td>\n",
       "      <td>-0.082361</td>\n",
       "      <td>-0.078803</td>\n",
       "      <td>0.085102</td>\n",
       "      <td>-0.255425</td>\n",
       "      <td>...</td>\n",
       "      <td>-0.225775</td>\n",
       "      <td>-0.638672</td>\n",
       "      <td>0.101288</td>\n",
       "      <td>-0.339846</td>\n",
       "      <td>0.167170</td>\n",
       "      <td>0.125895</td>\n",
       "      <td>-0.008983</td>\n",
       "      <td>0.014724</td>\n",
       "      <td>2.69</td>\n",
       "      <td>0</td>\n",
       "    </tr>\n",
       "    <tr>\n",
       "      <th>2</th>\n",
       "      <td>1</td>\n",
       "      <td>-1.358354</td>\n",
       "      <td>-1.340163</td>\n",
       "      <td>1.773209</td>\n",
       "      <td>0.379780</td>\n",
       "      <td>-0.503198</td>\n",
       "      <td>1.800499</td>\n",
       "      <td>0.791461</td>\n",
       "      <td>0.247676</td>\n",
       "      <td>-1.514654</td>\n",
       "      <td>...</td>\n",
       "      <td>0.247998</td>\n",
       "      <td>0.771679</td>\n",
       "      <td>0.909412</td>\n",
       "      <td>-0.689281</td>\n",
       "      <td>-0.327642</td>\n",
       "      <td>-0.139097</td>\n",
       "      <td>-0.055353</td>\n",
       "      <td>-0.059752</td>\n",
       "      <td>378.66</td>\n",
       "      <td>0</td>\n",
       "    </tr>\n",
       "    <tr>\n",
       "      <th>3</th>\n",
       "      <td>1</td>\n",
       "      <td>-0.966272</td>\n",
       "      <td>-0.185226</td>\n",
       "      <td>1.792993</td>\n",
       "      <td>-0.863291</td>\n",
       "      <td>-0.010309</td>\n",
       "      <td>1.247203</td>\n",
       "      <td>0.237609</td>\n",
       "      <td>0.377436</td>\n",
       "      <td>-1.387024</td>\n",
       "      <td>...</td>\n",
       "      <td>-0.108300</td>\n",
       "      <td>0.005274</td>\n",
       "      <td>-0.190321</td>\n",
       "      <td>-1.175575</td>\n",
       "      <td>0.647376</td>\n",
       "      <td>-0.221929</td>\n",
       "      <td>0.062723</td>\n",
       "      <td>0.061458</td>\n",
       "      <td>123.50</td>\n",
       "      <td>0</td>\n",
       "    </tr>\n",
       "    <tr>\n",
       "      <th>4</th>\n",
       "      <td>2</td>\n",
       "      <td>-1.158233</td>\n",
       "      <td>0.877737</td>\n",
       "      <td>1.548718</td>\n",
       "      <td>0.403034</td>\n",
       "      <td>-0.407193</td>\n",
       "      <td>0.095921</td>\n",
       "      <td>0.592941</td>\n",
       "      <td>-0.270533</td>\n",
       "      <td>0.817739</td>\n",
       "      <td>...</td>\n",
       "      <td>-0.009431</td>\n",
       "      <td>0.798278</td>\n",
       "      <td>-0.137458</td>\n",
       "      <td>0.141267</td>\n",
       "      <td>-0.206010</td>\n",
       "      <td>0.502292</td>\n",
       "      <td>0.219422</td>\n",
       "      <td>0.215153</td>\n",
       "      <td>69.99</td>\n",
       "      <td>0</td>\n",
       "    </tr>\n",
       "  </tbody>\n",
       "</table>\n",
       "<p>5 rows × 31 columns</p>\n",
       "</div>"
      ],
      "text/plain": [
       "   Time        V1        V2        V3        V4        V5        V6        V7  \\\n",
       "0     0 -1.359807 -0.072781  2.536347  1.378155 -0.338321  0.462388  0.239599   \n",
       "1     0  1.191857  0.266151  0.166480  0.448154  0.060018 -0.082361 -0.078803   \n",
       "2     1 -1.358354 -1.340163  1.773209  0.379780 -0.503198  1.800499  0.791461   \n",
       "3     1 -0.966272 -0.185226  1.792993 -0.863291 -0.010309  1.247203  0.237609   \n",
       "4     2 -1.158233  0.877737  1.548718  0.403034 -0.407193  0.095921  0.592941   \n",
       "\n",
       "         V8        V9  ...       V21       V22       V23       V24       V25  \\\n",
       "0  0.098698  0.363787  ... -0.018307  0.277838 -0.110474  0.066928  0.128539   \n",
       "1  0.085102 -0.255425  ... -0.225775 -0.638672  0.101288 -0.339846  0.167170   \n",
       "2  0.247676 -1.514654  ...  0.247998  0.771679  0.909412 -0.689281 -0.327642   \n",
       "3  0.377436 -1.387024  ... -0.108300  0.005274 -0.190321 -1.175575  0.647376   \n",
       "4 -0.270533  0.817739  ... -0.009431  0.798278 -0.137458  0.141267 -0.206010   \n",
       "\n",
       "        V26       V27       V28  Amount  Class  \n",
       "0 -0.189115  0.133558 -0.021053  149.62      0  \n",
       "1  0.125895 -0.008983  0.014724    2.69      0  \n",
       "2 -0.139097 -0.055353 -0.059752  378.66      0  \n",
       "3 -0.221929  0.062723  0.061458  123.50      0  \n",
       "4  0.502292  0.219422  0.215153   69.99      0  \n",
       "\n",
       "[5 rows x 31 columns]"
      ]
     },
     "execution_count": 7,
     "metadata": {},
     "output_type": "execute_result"
    }
   ],
   "source": [
    "data = pd.read_csv('C:\\\\Users\\\\AKASH\\\\Downloads\\\\dataset123.csv')\n",
    "data.head()"
   ]
  },
  {
   "cell_type": "code",
   "execution_count": 8,
   "id": "09b5a206",
   "metadata": {},
   "outputs": [
    {
     "name": "stdout",
     "output_type": "stream",
     "text": [
      "<class 'pandas.core.frame.DataFrame'>\n",
      "RangeIndex: 767 entries, 0 to 766\n",
      "Data columns (total 31 columns):\n",
      " #   Column  Non-Null Count  Dtype  \n",
      "---  ------  --------------  -----  \n",
      " 0   Time    767 non-null    int64  \n",
      " 1   V1      767 non-null    float64\n",
      " 2   V2      767 non-null    float64\n",
      " 3   V3      767 non-null    float64\n",
      " 4   V4      767 non-null    float64\n",
      " 5   V5      767 non-null    float64\n",
      " 6   V6      767 non-null    float64\n",
      " 7   V7      767 non-null    float64\n",
      " 8   V8      767 non-null    float64\n",
      " 9   V9      767 non-null    float64\n",
      " 10  V10     767 non-null    float64\n",
      " 11  V11     767 non-null    float64\n",
      " 12  V12     767 non-null    float64\n",
      " 13  V13     767 non-null    float64\n",
      " 14  V14     767 non-null    float64\n",
      " 15  V15     767 non-null    float64\n",
      " 16  V16     767 non-null    float64\n",
      " 17  V17     767 non-null    float64\n",
      " 18  V18     767 non-null    float64\n",
      " 19  V19     767 non-null    float64\n",
      " 20  V20     767 non-null    float64\n",
      " 21  V21     767 non-null    float64\n",
      " 22  V22     767 non-null    float64\n",
      " 23  V23     767 non-null    float64\n",
      " 24  V24     767 non-null    float64\n",
      " 25  V25     767 non-null    float64\n",
      " 26  V26     767 non-null    float64\n",
      " 27  V27     767 non-null    float64\n",
      " 28  V28     767 non-null    float64\n",
      " 29  Amount  767 non-null    float64\n",
      " 30  Class   767 non-null    int64  \n",
      "dtypes: float64(29), int64(2)\n",
      "memory usage: 185.9 KB\n"
     ]
    }
   ],
   "source": [
    "data.info()"
   ]
  },
  {
   "cell_type": "code",
   "execution_count": 9,
   "id": "40f464eb",
   "metadata": {},
   "outputs": [],
   "source": [
    "#1 means fraud transaction and 0 means non fraud dataset in the dataset they have applied pca and given that form its not the original data cause the data is very sophisticated\n"
   ]
  },
  {
   "cell_type": "markdown",
   "id": "5893d856",
   "metadata": {},
   "source": []
  },
  {
   "cell_type": "markdown",
   "id": "ddf0d40e",
   "metadata": {},
   "source": []
  },
  {
   "cell_type": "code",
   "execution_count": 10,
   "id": "8d406e0d",
   "metadata": {},
   "outputs": [
    {
     "name": "stdout",
     "output_type": "stream",
     "text": [
      "(767, 30)\n",
      "(767,)\n"
     ]
    }
   ],
   "source": [
    "columns=data.columns.tolist()\n",
    "#filter the data column to remove data we don't want\n",
    "columns=[c for c in columns if  c not in [\"Class\"]]\n",
    "target=\"Class\"\n",
    "state=np.random.RandomState(42)\n",
    "X=data[columns]\n",
    "Y=data[target]\n",
    "X_outliers=state.uniform(low=0,high=1,size=(X.shape[0],X.shape[1]))\n",
    "print(X.shape)\n",
    "print(Y.shape)"
   ]
  },
  {
   "cell_type": "code",
   "execution_count": 11,
   "id": "d0ca6526",
   "metadata": {},
   "outputs": [
    {
     "data": {
      "text/plain": [
       "False"
      ]
     },
     "execution_count": 11,
     "metadata": {},
     "output_type": "execute_result"
    }
   ],
   "source": [
    "data.isnull().values.any()"
   ]
  },
  {
   "cell_type": "code",
   "execution_count": 12,
   "id": "1005a4d3",
   "metadata": {},
   "outputs": [
    {
     "data": {
      "text/plain": [
       "Text(0, 0.5, 'Frequency')"
      ]
     },
     "execution_count": 12,
     "metadata": {},
     "output_type": "execute_result"
    },
    {
     "data": {
      "image/png": "[encoded data removed]",
      "text/plain": [
       "<Figure size 1008x576 with 1 Axes>"
      ]
     },
     "metadata": {
      "needs_background": "light"
     },
     "output_type": "display_data"
    }
   ],
   "source": [
    "count_classes=pd.value_counts(data['Class'],sort=True)\n",
    "count_classes.plot(kind='bar',rot=0)\n",
    "plt.title(\"Transaction class Distribution\")\n",
    "plt.xticks(range(2),LABELS)\n",
    "plt.xlabel(\"class\")\n",
    "plt.ylabel(\"Frequency\")"
   ]
  },
  {
   "cell_type": "code",
   "execution_count": 13,
   "id": "2f9ba59e",
   "metadata": {},
   "outputs": [],
   "source": [
    "fraud=data[data[\"Class\"]==1]\n",
    "normal=data[data[\"Class\"]==0]"
   ]
  },
  {
   "cell_type": "code",
   "execution_count": 14,
   "id": "371f5326",
   "metadata": {},
   "outputs": [
    {
     "name": "stdout",
     "output_type": "stream",
     "text": [
      "(492, 31) (284315, 31)\n"
     ]
    }
   ],
   "source": [
    "print(fraud.shape,normal.shape)"
   ]
  },
  {
   "cell_type": "code",
   "execution_count": 15,
   "id": "4bffbd2c",
   "metadata": {},
   "outputs": [],
   "source": [
    "from imblearn.under_sampling import NearMiss\n"
   ]
  },
  {
   "cell_type": "code",
   "execution_count": 16,
   "id": "f67e7c99",
   "metadata": {},
   "outputs": [],
   "source": [
    "\n",
    "nm=NearMiss()\n",
    "X_res,y_res=nm.fit_resample(X,Y)\n"
   ]
  },
  {
   "cell_type": "code",
   "execution_count": 17,
   "id": "c4106e68",
   "metadata": {},
   "outputs": [
    {
     "data": {
      "text/plain": [
       "((984, 30), (984,))"
      ]
     },
     "execution_count": 17,
     "metadata": {},
     "output_type": "execute_result"
    }
   ],
   "source": [
    "X_res.shape,y_res.shape"
   ]
  },
  {
   "cell_type": "code",
   "execution_count": 18,
   "id": "4c2c3f4e",
   "metadata": {},
   "outputs": [
    {
     "data": {
      "text/plain": [
       "Text(0, 0.5, 'Frequency')"
      ]
     },
     "execution_count": 18,
     "metadata": {},
     "output_type": "execute_result"
    },
    {
     "data": {
      "image/png": "[encoded data removed]",
      "text/plain": [
       "<Figure size 1008x576 with 1 Axes>"
      ]
     },
     "metadata": {
      "needs_background": "light"
     },
     "output_type": "display_data"
    }
   ],
   "source": [
    "count_classes=pd.value_counts(y_res,sort=True)\n",
    "count_classes.plot(kind='bar',rot=0)\n",
    "plt.title(\"Transaction class Distribution\")\n",
    "plt.xticks(range(2),LABELS)\n",
    "plt.xlabel(\"class\")\n",
    "plt.ylabel(\"Frequency\")"
   ]
  },
  {
   "cell_type": "code",
   "execution_count": 19,
   "id": "fb460b18",
   "metadata": {},
   "outputs": [],
   "source": [
    "from collections import Counter"
   ]
  },
  {
   "cell_type": "code",
   "execution_count": 20,
   "id": "acea48e2",
   "metadata": {},
   "outputs": [
    {
     "name": "stdout",
     "output_type": "stream",
     "text": [
      "Original dataset shape Counter({0: 284315, 1: 492})\n",
      "Resampled dataset shape Counter({0: 492, 1: 492})\n"
     ]
    }
   ],
   "source": [
    "print('Original dataset shape {}'.format(Counter(Y)))\n",
    "print('Resampled dataset shape {}'.format(Counter(y_res)))"
   ]
  },
  {
   "cell_type": "code",
   "execution_count": 21,
   "id": "442266a5",
   "metadata": {},
   "outputs": [],
   "source": [
    "from imblearn.over_sampling import RandomOverSampler"
   ]
  },
  {
   "cell_type": "code",
   "execution_count": 22,
   "id": "ba5718dd",
   "metadata": {},
   "outputs": [],
   "source": [
    "ros = RandomOverSampler(random_state=42)\n",
    "X_ros, y_ros = ros.fit_resample(X, Y)"
   ]
  },
  {
   "cell_type": "code",
   "execution_count": 23,
   "id": "cb4c8a7c",
   "metadata": {},
   "outputs": [
    {
     "name": "stdout",
     "output_type": "stream",
     "text": [
      "Original dataset shape Counter({0: 284315, 1: 492})\n",
      "Resampled dataset shape Counter({0: 284315, 1: 284315})\n"
     ]
    }
   ],
   "source": [
    "print('Original dataset shape {}'.format(Counter(Y)))\n",
    "print('Resampled dataset shape {}'.format(Counter(y_ros)))"
   ]
  },
  {
   "cell_type": "code",
   "execution_count": 24,
   "id": "7f51d70b",
   "metadata": {},
   "outputs": [
    {
     "data": {
      "text/plain": [
       "Text(0, 0.5, 'Frequency')"
      ]
     },
     "execution_count": 24,
     "metadata": {},
     "output_type": "execute_result"
    },
    {
     "data": {
      "image/png": "[encoded data removed]",
      "text/plain": [
       "<Figure size 1008x576 with 1 Axes>"
      ]
     },
     "metadata": {
      "needs_background": "light"
     },
     "output_type": "display_data"
    }
   ],
   "source": [
    "count_classes=pd.value_counts(y_ros,sort=True)\n",
    "count_classes.plot(kind='bar',rot=0)\n",
    "plt.title(\"Transaction class Distribution\")\n",
    "plt.xticks(range(2),LABELS)\n",
    "plt.xlabel(\"class\")\n",
    "plt.ylabel(\"Frequency\")"
   ]
  },
  {
   "cell_type": "code",
   "execution_count": 25,
   "id": "07bf3adc",
   "metadata": {},
   "outputs": [],
   "source": [
    "from imblearn.over_sampling import SMOTE "
   ]
  },
  {
   "cell_type": "code",
   "execution_count": 26,
   "id": "13369554",
   "metadata": {},
   "outputs": [],
   "source": [
    "sm = SMOTE(random_state=42)\n",
    "X_rs, y_rs = sm.fit_resample(X, Y)\n"
   ]
  },
  {
   "cell_type": "code",
   "execution_count": 27,
   "id": "730dbea3",
   "metadata": {},
   "outputs": [
    {
     "name": "stdout",
     "output_type": "stream",
     "text": [
      "Original dataset shape using smote Counter({0: 284315, 1: 492})\n",
      "Resampled dataset shape using smoteCounter({0: 284315, 1: 284315})\n"
     ]
    }
   ],
   "source": [
    "print('Original dataset shape using smote {}'.format(Counter(Y)))\n",
    "print('Resampled dataset shape using smote{}'.format(Counter(y_rs)))"
   ]
  },
  {
   "cell_type": "code",
   "execution_count": 28,
   "id": "919269de",
   "metadata": {},
   "outputs": [
    {
     "data": {
      "text/plain": [
       "Text(0, 0.5, 'Frequency')"
      ]
     },
     "execution_count": 28,
     "metadata": {},
     "output_type": "execute_result"
    },
    {
     "data": {
      "image/png": "[encoded data removed]",
      "text/plain": [
       "<Figure size 1008x576 with 1 Axes>"
      ]
     },
     "metadata": {
      "needs_background": "light"
     },
     "output_type": "display_data"
    }
   ],
   "source": [
    "count_classes=pd.value_counts(y_rs,sort=True)\n",
    "count_classes.plot(kind='bar',rot=0)\n",
    "plt.title(\"Transaction class Distribution\")\n",
    "plt.xticks(range(2),LABELS,color='red')\n",
    "plt.xlabel(\"class\")\n",
    "plt.ylabel(\"Frequency\")"
   ]
  },
  {
   "cell_type": "code",
   "execution_count": 29,
   "id": "2d9f486c",
   "metadata": {},
   "outputs": [],
   "source": [
    "from sklearn.model_selection import train_test_split\n",
    "from sklearn.metrics import accuracy_score,f1_score, confusion_matrix, recall_score, classification_report\n",
    "from sklearn.linear_model import LogisticRegression\n",
    "\n",
    "from sklearn.ensemble import RandomForestClassifier\n",
    "from sklearn.metrics import plot_roc_curve\n",
    "\n"
   ]
  },
  {
   "cell_type": "code",
   "execution_count": 30,
   "id": "68f9d1bc",
   "metadata": {},
   "outputs": [],
   "source": [
    "def splittingData(X_rec,y_rec):\n",
    "    X_train, X_test, y_train, y_test = train_test_split(X_rec, y_rec, test_size=0.2, random_state=42)\n",
    "    return X_train,X_test,y_train,y_test"
   ]
  },
  {
   "cell_type": "code",
   "execution_count": 38,
   "id": "4596d58c",
   "metadata": {},
   "outputs": [],
   "source": [
    "def training_prediction(model_name, model, X_train_set, y_train_set, X_test_set, y_test_set):\n",
    "    model().fit(X_train_set, y_train_set)\n",
    "    y_pred = model.predict(X_test_set)\n",
    "    cm1=confusion_matrix(y_test_set, y_pred)\n",
    "    print(\"Confusion matrix : \",cm1)\n",
    "    num = [0.0,0.1,0.2,0.3,0.4,0.5,0.6,0.7,0.8,0.9]\n",
    "    for i in num:\n",
    "        total1=sum(sum(cm1))\n",
    "        Accuracy = (cm1[0,0]+cm1[1,1])/total1\n",
    "        Specificity = cm1[0,0]/(cm1[0,0]+cm1[0,1])\n",
    "        Sensitivity = cm1[1,1]/(cm1[1,0]+cm1[1,1])\n",
    "    TN = cm1[0][0]\n",
    "    FN = cm1[1][0]\n",
    "    TP = cm1[1][1]\n",
    "    FP = cm1[0][1]\n",
    "    \n",
    "    TPR = TP/(TP+FN)\n",
    "    TNR = TN/(TN+FP)\n",
    "    Precision = TP / (TP + FP)\n",
    "    print(\"Precision is: \",Precision)\n",
    "    print(\"true postive rate : \",TPR)\n",
    "    print(\"true negative rate: \",TNR)\n",
    "    print(\"Accuracy Score: \",Accuracy)\n",
    "    print(\"Specificity is: \",Specificity)\n",
    "    print(\"Sensitivity is: \",Sensitivity)\n",
    "    print(\"Recall Score : \",recall_score(y_test_set, y_pred, average='macro'))\n",
    "    score = f1_score(y_test_set, y_pred, average='binary')\n",
    "    print(\"f1 score is: \",score)\n",
    "    print(\"Classification Report for {0} is as follows\".format(model_name))\n",
    "    print(classification_report(y_test_set, y_pred))\n"
   ]
  },
  {
   "cell_type": "markdown",
   "id": "a7fbd5d5",
   "metadata": {},
   "source": [
    "# LOGISTIC REGRESSION CLASSIFIER"
   ]
  },
  {
   "cell_type": "code",
   "execution_count": 32,
   "id": "8a9877a1",
   "metadata": {},
   "outputs": [],
   "source": [
    "logisticRegressionModel = LogisticRegression(solver='liblinear',penalty='l1',max_iter=100, dual=False)"
   ]
  },
  {
   "cell_type": "code",
   "execution_count": 33,
   "id": "f5b6a99b",
   "metadata": {},
   "outputs": [
    {
     "name": "stdout",
     "output_type": "stream",
     "text": [
      "Confusion matrix :  [[56855     9]\n",
      " [   41    57]]\n",
      "Precision is:  0.8636363636363636\n",
      "true postive rate :  0.5816326530612245\n",
      "true negative rate:  0.9998417276308385\n",
      "Accuracy Score:  0.9991222218320986\n",
      "Specificity is:  0.9998417276308385\n",
      "Sensitivity is:  0.5816326530612245\n",
      "Recall Score :  0.7907371903460314\n",
      "f1 score is:  0.6951219512195121\n",
      "Classification Report for OD - ORIGINAL DATASET is as follows\n",
      "              precision    recall  f1-score   support\n",
      "\n",
      "           0       1.00      1.00      1.00     56864\n",
      "           1       0.86      0.58      0.70        98\n",
      "\n",
      "    accuracy                           1.00     56962\n",
      "   macro avg       0.93      0.79      0.85     56962\n",
      "weighted avg       1.00      1.00      1.00     56962\n",
      "\n"
     ]
    }
   ],
   "source": [
    "\n",
    "X_ori_train, X_ori_test, y_ori_train, y_ori_test = splittingData(X,Y)\n",
    "training_prediction('OD - ORIGINAL DATASET', logisticRegressionModel, X_ori_train, y_ori_train, X_ori_test, y_ori_test)"
   ]
  },
  {
   "cell_type": "code",
   "execution_count": 34,
   "id": "a0f431de",
   "metadata": {},
   "outputs": [
    {
     "name": "stdout",
     "output_type": "stream",
     "text": [
      "Confusion matrix :  [[95  4]\n",
      " [ 8 90]]\n",
      "Precision is:  0.9574468085106383\n",
      "true postive rate :  0.9183673469387755\n",
      "true negative rate:  0.9595959595959596\n",
      "Accuracy Score:  0.9390862944162437\n",
      "Specificity is:  0.9595959595959596\n",
      "Sensitivity is:  0.9183673469387755\n",
      "Recall Score :  0.9389816532673676\n",
      "f1 score is:  0.9375000000000001\n",
      "Classification Report for LR - Random Under Sampling is as follows\n",
      "              precision    recall  f1-score   support\n",
      "\n",
      "           0       0.92      0.96      0.94        99\n",
      "           1       0.96      0.92      0.94        98\n",
      "\n",
      "    accuracy                           0.94       197\n",
      "   macro avg       0.94      0.94      0.94       197\n",
      "weighted avg       0.94      0.94      0.94       197\n",
      "\n"
     ]
    }
   ],
   "source": [
    "X_under_train, X_under_test, y_under_train, y_under_test = splittingData(X_res, y_res)\n",
    "training_prediction('LR - Random Under Sampling', logisticRegressionModel, X_under_train, y_under_train, X_under_test, y_under_test)"
   ]
  },
  {
   "cell_type": "code",
   "execution_count": 35,
   "id": "ec283408",
   "metadata": {},
   "outputs": [
    {
     "name": "stdout",
     "output_type": "stream",
     "text": [
      "Confusion matrix :  [[55461  1289]\n",
      " [ 4446 52530]]\n",
      "Precision is:  0.9760493506010889\n",
      "true postive rate :  0.9219671440606572\n",
      "true negative rate:  0.9772863436123348\n",
      "Accuracy Score:  0.9495717777816858\n",
      "Specificity is:  0.9772863436123348\n",
      "Sensitivity is:  0.9219671440606572\n",
      "Recall Score :  0.949626743836496\n",
      "f1 score is:  0.9482377363599441\n",
      "Classification Report for LR - Random Over Sampling is as follows\n",
      "              precision    recall  f1-score   support\n",
      "\n",
      "           0       0.93      0.98      0.95     56750\n",
      "           1       0.98      0.92      0.95     56976\n",
      "\n",
      "    accuracy                           0.95    113726\n",
      "   macro avg       0.95      0.95      0.95    113726\n",
      "weighted avg       0.95      0.95      0.95    113726\n",
      "\n"
     ]
    }
   ],
   "source": [
    "X_over_train, X_over_test, y_over_train, y_over_test = splittingData(X_ros, y_ros)\n",
    "training_prediction('LR - Random Over Sampling', logisticRegressionModel, X_over_train, y_over_train, X_over_test, y_over_test)"
   ]
  },
  {
   "cell_type": "code",
   "execution_count": 36,
   "id": "975d352e",
   "metadata": {},
   "outputs": [
    {
     "name": "stdout",
     "output_type": "stream",
     "text": [
      "Confusion matrix :  [[56249   501]\n",
      " [ 1679 55297]]\n",
      "Precision is:  0.9910211835549662\n",
      "true postive rate :  0.970531451839371\n",
      "true negative rate:  0.9911718061674009\n",
      "Accuracy Score:  0.9808311204122189\n",
      "Specificity is:  0.9911718061674009\n",
      "Sensitivity is:  0.970531451839371\n",
      "Recall Score :  0.980851629003386\n",
      "f1 score is:  0.9806693032081862\n",
      "Classification Report for RS-OVERSAMPLING USING SMOTE is as follows\n",
      "              precision    recall  f1-score   support\n",
      "\n",
      "           0       0.97      0.99      0.98     56750\n",
      "           1       0.99      0.97      0.98     56976\n",
      "\n",
      "    accuracy                           0.98    113726\n",
      "   macro avg       0.98      0.98      0.98    113726\n",
      "weighted avg       0.98      0.98      0.98    113726\n",
      "\n"
     ]
    }
   ],
   "source": [
    "X_sm_train, X_sm_test, y_sm_train, y_sm_test = splittingData(X_rs,y_rs)\n",
    "training_prediction('RS-OVERSAMPLING USING SMOTE', logisticRegressionModel, X_sm_train, y_sm_train, X_sm_test, y_sm_test)"
   ]
  },
  {
   "cell_type": "markdown",
   "id": "84e5f6b4",
   "metadata": {},
   "source": [
    "# Random Forest Classifier"
   ]
  },
  {
   "cell_type": "code",
   "execution_count": 35,
   "id": "d8f6df91",
   "metadata": {},
   "outputs": [],
   "source": [
    "randomForestModel = RandomForestClassifier()"
   ]
  },
  {
   "cell_type": "code",
   "execution_count": 36,
   "id": "22330eef",
   "metadata": {},
   "outputs": [
    {
     "name": "stdout",
     "output_type": "stream",
     "text": [
      "Confusion matrix :  [[56863     1]\n",
      " [   23    75]]\n",
      "Precision is:  0.9868421052631579\n",
      "true postive rate :  0.7653061224489796\n",
      "true negative rate:  0.9999824141812043\n",
      "Accuracy Score:  0.9995786664794073\n",
      "Specificity is:  0.9999824141812043\n",
      "Sensitivity is:  0.7653061224489796\n",
      "Recall Score :  0.8826442683150919\n",
      "f1 score is:  0.8620689655172413\n",
      "Classification Report for OD - ORIGINAL DATASET is as follows\n",
      "              precision    recall  f1-score   support\n",
      "\n",
      "           0       1.00      1.00      1.00     56864\n",
      "           1       0.99      0.77      0.86        98\n",
      "\n",
      "    accuracy                           1.00     56962\n",
      "   macro avg       0.99      0.88      0.93     56962\n",
      "weighted avg       1.00      1.00      1.00     56962\n",
      "\n"
     ]
    }
   ],
   "source": [
    "training_prediction('OD - ORIGINAL DATASET', randomForestModel, X_ori_train, y_ori_train, X_ori_test, y_ori_test)"
   ]
  },
  {
   "cell_type": "code",
   "execution_count": 37,
   "id": "85a7a88b",
   "metadata": {},
   "outputs": [
    {
     "name": "stdout",
     "output_type": "stream",
     "text": [
      "Confusion matrix :  [[98  1]\n",
      " [ 6 92]]\n",
      "Precision is:  0.989247311827957\n",
      "true postive rate :  0.9387755102040817\n",
      "true negative rate:  0.98989898989899\n",
      "Accuracy Score:  0.9644670050761421\n",
      "Specificity is:  0.98989898989899\n",
      "Sensitivity is:  0.9387755102040817\n",
      "Recall Score :  0.9643372500515358\n",
      "f1 score is:  0.9633507853403142\n",
      "Classification Report for LR - Random Under Sampling is as follows\n",
      "              precision    recall  f1-score   support\n",
      "\n",
      "           0       0.94      0.99      0.97        99\n",
      "           1       0.99      0.94      0.96        98\n",
      "\n",
      "    accuracy                           0.96       197\n",
      "   macro avg       0.97      0.96      0.96       197\n",
      "weighted avg       0.97      0.96      0.96       197\n",
      "\n"
     ]
    }
   ],
   "source": [
    "training_prediction('LR - Random Under Sampling', randomForestModel, X_under_train, y_under_train, X_under_test, y_under_test)"
   ]
  },
  {
   "cell_type": "code",
   "execution_count": 38,
   "id": "0e75ed06",
   "metadata": {},
   "outputs": [
    {
     "name": "stdout",
     "output_type": "stream",
     "text": [
      "Confusion matrix :  [[56745     5]\n",
      " [    0 56976]]\n",
      "Precision is:  0.9999122514522385\n",
      "true postive rate :  1.0\n",
      "true negative rate:  0.9999118942731278\n",
      "Accuracy Score:  0.9999560346798445\n",
      "Specificity is:  0.9999118942731278\n",
      "Sensitivity is:  1.0\n",
      "Recall Score :  0.9999559471365639\n",
      "f1 score is:  0.9999561238010829\n",
      "Classification Report for LR - Random Over Sampling is as follows\n",
      "              precision    recall  f1-score   support\n",
      "\n",
      "           0       1.00      1.00      1.00     56750\n",
      "           1       1.00      1.00      1.00     56976\n",
      "\n",
      "    accuracy                           1.00    113726\n",
      "   macro avg       1.00      1.00      1.00    113726\n",
      "weighted avg       1.00      1.00      1.00    113726\n",
      "\n"
     ]
    }
   ],
   "source": [
    "training_prediction('LR - Random Over Sampling', randomForestModel, X_over_train, y_over_train, X_over_test, y_over_test)"
   ]
  },
  {
   "cell_type": "code",
   "execution_count": 39,
   "id": "2122d7de",
   "metadata": {},
   "outputs": [
    {
     "name": "stdout",
     "output_type": "stream",
     "text": [
      "Confusion matrix :  [[56739    11]\n",
      " [    0 56976]]\n",
      "Precision is:  0.9998069735202766\n",
      "true postive rate :  1.0\n",
      "true negative rate:  0.999806167400881\n",
      "Accuracy Score:  0.999903276295658\n",
      "Specificity is:  0.999806167400881\n",
      "Sensitivity is:  1.0\n",
      "Recall Score :  0.9999030837004406\n",
      "f1 score is:  0.9999034774444338\n",
      "Classification Report for RS-OVERSAMPLING USING SMOTE is as follows\n",
      "              precision    recall  f1-score   support\n",
      "\n",
      "           0       1.00      1.00      1.00     56750\n",
      "           1       1.00      1.00      1.00     56976\n",
      "\n",
      "    accuracy                           1.00    113726\n",
      "   macro avg       1.00      1.00      1.00    113726\n",
      "weighted avg       1.00      1.00      1.00    113726\n",
      "\n"
     ]
    }
   ],
   "source": [
    "training_prediction('RS-OVERSAMPLING USING SMOTE', randomForestModel, X_sm_train, y_sm_train, X_sm_test, y_sm_test)"
   ]
  },
  {
   "cell_type": "markdown",
   "id": "9fab098e",
   "metadata": {},
   "source": [
    "# DECISION TREE CLASSIFIER"
   ]
  },
  {
   "cell_type": "code",
   "execution_count": 40,
   "id": "094abcdf",
   "metadata": {},
   "outputs": [],
   "source": [
    "from sklearn.tree import DecisionTreeClassifier\n",
    "DecisiontreeModel = DecisionTreeClassifier()"
   ]
  },
  {
   "cell_type": "code",
   "execution_count": 41,
   "id": "461a7776",
   "metadata": {},
   "outputs": [
    {
     "name": "stdout",
     "output_type": "stream",
     "text": [
      "Confusion matrix :  [[56832    32]\n",
      " [   22    76]]\n",
      "Precision is:  0.7037037037037037\n",
      "true postive rate :  0.7755102040816326\n",
      "true negative rate:  0.9994372537985369\n",
      "Accuracy Score:  0.9990519995786665\n",
      "Specificity is:  0.9994372537985369\n",
      "Sensitivity is:  0.7755102040816326\n",
      "Recall Score :  0.8874737289400847\n",
      "f1 score is:  0.7378640776699029\n",
      "Classification Report for OD - ORIGINAL DATASET is as follows\n",
      "              precision    recall  f1-score   support\n",
      "\n",
      "           0       1.00      1.00      1.00     56864\n",
      "           1       0.70      0.78      0.74        98\n",
      "\n",
      "    accuracy                           1.00     56962\n",
      "   macro avg       0.85      0.89      0.87     56962\n",
      "weighted avg       1.00      1.00      1.00     56962\n",
      "\n"
     ]
    }
   ],
   "source": [
    "training_prediction('OD - ORIGINAL DATASET', DecisiontreeModel, X_ori_train, y_ori_train, X_ori_test, y_ori_test)"
   ]
  },
  {
   "cell_type": "code",
   "execution_count": 42,
   "id": "6130b2c0",
   "metadata": {},
   "outputs": [
    {
     "name": "stdout",
     "output_type": "stream",
     "text": [
      "Confusion matrix :  [[97  2]\n",
      " [ 7 91]]\n",
      "Precision is:  0.978494623655914\n",
      "true postive rate :  0.9285714285714286\n",
      "true negative rate:  0.9797979797979798\n",
      "Accuracy Score:  0.9543147208121827\n",
      "Specificity is:  0.9797979797979798\n",
      "Sensitivity is:  0.9285714285714286\n",
      "Recall Score :  0.9541847041847042\n",
      "f1 score is:  0.9528795811518325\n",
      "Classification Report for LR - Random Under Sampling is as follows\n",
      "              precision    recall  f1-score   support\n",
      "\n",
      "           0       0.93      0.98      0.96        99\n",
      "           1       0.98      0.93      0.95        98\n",
      "\n",
      "    accuracy                           0.95       197\n",
      "   macro avg       0.96      0.95      0.95       197\n",
      "weighted avg       0.96      0.95      0.95       197\n",
      "\n"
     ]
    }
   ],
   "source": [
    "training_prediction('LR - Random Under Sampling', DecisiontreeModel, X_under_train, y_under_train, X_under_test, y_under_test)"
   ]
  },
  {
   "cell_type": "code",
   "execution_count": 43,
   "id": "17d91a21",
   "metadata": {},
   "outputs": [
    {
     "name": "stdout",
     "output_type": "stream",
     "text": [
      "Confusion matrix :  [[56724    26]\n",
      " [    0 56976]]\n",
      "Precision is:  0.9995438756534858\n",
      "true postive rate :  1.0\n",
      "true negative rate:  0.9995418502202643\n",
      "Accuracy Score:  0.9997713803351916\n",
      "Specificity is:  0.9995418502202643\n",
      "Sensitivity is:  1.0\n",
      "Recall Score :  0.9997709251101321\n",
      "f1 score is:  0.9997718858025233\n",
      "Classification Report for LR - Random Over Sampling is as follows\n",
      "              precision    recall  f1-score   support\n",
      "\n",
      "           0       1.00      1.00      1.00     56750\n",
      "           1       1.00      1.00      1.00     56976\n",
      "\n",
      "    accuracy                           1.00    113726\n",
      "   macro avg       1.00      1.00      1.00    113726\n",
      "weighted avg       1.00      1.00      1.00    113726\n",
      "\n"
     ]
    }
   ],
   "source": [
    "training_prediction('LR - Random Over Sampling', DecisiontreeModel, X_over_train, y_over_train, X_over_test, y_over_test)"
   ]
  },
  {
   "cell_type": "code",
   "execution_count": 44,
   "id": "f022f89e",
   "metadata": {},
   "outputs": [
    {
     "name": "stdout",
     "output_type": "stream",
     "text": [
      "Confusion matrix :  [[56627   123]\n",
      " [   29 56947]]\n",
      "Precision is:  0.997844752058875\n",
      "true postive rate :  0.9994910137601797\n",
      "true negative rate:  0.9978325991189427\n",
      "Accuracy Score:  0.998663454267274\n",
      "Specificity is:  0.9978325991189427\n",
      "Sensitivity is:  0.9994910137601797\n",
      "Recall Score :  0.9986618064395612\n",
      "f1 score is:  0.9986672044613576\n",
      "Classification Report for RS-OVERSAMPLING USING SMOTE is as follows\n",
      "              precision    recall  f1-score   support\n",
      "\n",
      "           0       1.00      1.00      1.00     56750\n",
      "           1       1.00      1.00      1.00     56976\n",
      "\n",
      "    accuracy                           1.00    113726\n",
      "   macro avg       1.00      1.00      1.00    113726\n",
      "weighted avg       1.00      1.00      1.00    113726\n",
      "\n"
     ]
    }
   ],
   "source": [
    "training_prediction('RS-OVERSAMPLING USING SMOTE', DecisiontreeModel, X_sm_train, y_sm_train, X_sm_test, y_sm_test)"
   ]
  },
  {
   "cell_type": "markdown",
   "id": "fdcb1013",
   "metadata": {},
   "source": [
    "# BAGGING CLASSIFIER"
   ]
  },
  {
   "cell_type": "code",
   "execution_count": 45,
   "id": "d1d6d0ec",
   "metadata": {},
   "outputs": [],
   "source": [
    "from sklearn.ensemble import BaggingClassifier\n",
    "BaggingCModel=BaggingClassifier()"
   ]
  },
  {
   "cell_type": "code",
   "execution_count": 46,
   "id": "907859f7",
   "metadata": {},
   "outputs": [
    {
     "name": "stdout",
     "output_type": "stream",
     "text": [
      "Confusion matrix :  [[56833    31]\n",
      " [   20    78]]\n",
      "Precision is:  0.7155963302752294\n",
      "true postive rate :  0.7959183673469388\n",
      "true negative rate:  0.9994548396173326\n",
      "Accuracy Score:  0.9991046662687406\n",
      "Specificity is:  0.9994548396173326\n",
      "Sensitivity is:  0.7959183673469388\n",
      "Recall Score :  0.8976866034821357\n",
      "f1 score is:  0.7536231884057972\n",
      "Classification Report for OD - ORIGINAL DATASET is as follows\n",
      "              precision    recall  f1-score   support\n",
      "\n",
      "           0       1.00      1.00      1.00     56864\n",
      "           1       0.72      0.80      0.75        98\n",
      "\n",
      "    accuracy                           1.00     56962\n",
      "   macro avg       0.86      0.90      0.88     56962\n",
      "weighted avg       1.00      1.00      1.00     56962\n",
      "\n"
     ]
    }
   ],
   "source": [
    "training_prediction('OD - ORIGINAL DATASET', DecisiontreeModel, X_ori_train, y_ori_train, X_ori_test, y_ori_test)"
   ]
  },
  {
   "cell_type": "code",
   "execution_count": 47,
   "id": "a0cff679",
   "metadata": {},
   "outputs": [
    {
     "name": "stdout",
     "output_type": "stream",
     "text": [
      "Confusion matrix :  [[98  1]\n",
      " [ 7 91]]\n",
      "Precision is:  0.9891304347826086\n",
      "true postive rate :  0.9285714285714286\n",
      "true negative rate:  0.98989898989899\n",
      "Accuracy Score:  0.9593908629441624\n",
      "Specificity is:  0.98989898989899\n",
      "Sensitivity is:  0.9285714285714286\n",
      "Recall Score :  0.9592352092352092\n",
      "f1 score is:  0.9578947368421052\n",
      "Classification Report for LR - Random Under Sampling is as follows\n",
      "              precision    recall  f1-score   support\n",
      "\n",
      "           0       0.93      0.99      0.96        99\n",
      "           1       0.99      0.93      0.96        98\n",
      "\n",
      "    accuracy                           0.96       197\n",
      "   macro avg       0.96      0.96      0.96       197\n",
      "weighted avg       0.96      0.96      0.96       197\n",
      "\n"
     ]
    }
   ],
   "source": [
    "training_prediction('LR - Random Under Sampling', BaggingCModel, X_under_train, y_under_train, X_under_test, y_under_test)"
   ]
  },
  {
   "cell_type": "code",
   "execution_count": 48,
   "id": "7b6c9dbd",
   "metadata": {},
   "outputs": [
    {
     "name": "stdout",
     "output_type": "stream",
     "text": [
      "Confusion matrix :  [[56721    29]\n",
      " [    0 56976]]\n",
      "Precision is:  0.9994912726953776\n",
      "true postive rate :  1.0\n",
      "true negative rate:  0.999488986784141\n",
      "Accuracy Score:  0.9997450011430983\n",
      "Specificity is:  0.999488986784141\n",
      "Sensitivity is:  1.0\n",
      "Recall Score :  0.9997444933920705\n",
      "f1 score is:  0.9997455716303594\n",
      "Classification Report for LR - Random Over Sampling is as follows\n",
      "              precision    recall  f1-score   support\n",
      "\n",
      "           0       1.00      1.00      1.00     56750\n",
      "           1       1.00      1.00      1.00     56976\n",
      "\n",
      "    accuracy                           1.00    113726\n",
      "   macro avg       1.00      1.00      1.00    113726\n",
      "weighted avg       1.00      1.00      1.00    113726\n",
      "\n"
     ]
    }
   ],
   "source": [
    "training_prediction('LR - Random Over Sampling', BaggingCModel, X_over_train, y_over_train, X_over_test, y_over_test)"
   ]
  },
  {
   "cell_type": "code",
   "execution_count": 49,
   "id": "3bb62347",
   "metadata": {},
   "outputs": [
    {
     "name": "stdout",
     "output_type": "stream",
     "text": [
      "Confusion matrix :  [[56703    47]\n",
      " [   18 56958]]\n",
      "Precision is:  0.9991755109200947\n",
      "true postive rate :  0.9996840775063185\n",
      "true negative rate:  0.9991718061674009\n",
      "Accuracy Score:  0.999428450837979\n",
      "Specificity is:  0.9991718061674009\n",
      "Sensitivity is:  0.9996840775063185\n",
      "Recall Score :  0.9994279418368597\n",
      "f1 score is:  0.9994297295163229\n",
      "Classification Report for RS-OVERSAMPLING USING SMOTE is as follows\n",
      "              precision    recall  f1-score   support\n",
      "\n",
      "           0       1.00      1.00      1.00     56750\n",
      "           1       1.00      1.00      1.00     56976\n",
      "\n",
      "    accuracy                           1.00    113726\n",
      "   macro avg       1.00      1.00      1.00    113726\n",
      "weighted avg       1.00      1.00      1.00    113726\n",
      "\n"
     ]
    }
   ],
   "source": [
    "training_prediction('RS-OVERSAMPLING USING SMOTE', BaggingCModel, X_sm_train, y_sm_train, X_sm_test, y_sm_test)"
   ]
  },
  {
   "cell_type": "markdown",
   "id": "e57be5fe",
   "metadata": {},
   "source": [
    "# ADABOOST CLASSIFIER"
   ]
  },
  {
   "cell_type": "code",
   "execution_count": 49,
   "id": "a3ba9450",
   "metadata": {},
   "outputs": [],
   "source": [
    "from sklearn.ensemble import AdaBoostClassifier\n",
    "\n",
    "model = AdaBoostClassifier()"
   ]
  },
  {
   "cell_type": "code",
   "execution_count": 51,
   "id": "b10b9a12",
   "metadata": {},
   "outputs": [
    {
     "name": "stdout",
     "output_type": "stream",
     "text": [
      "Confusion matrix :  [[56852    12]\n",
      " [   27    71]]\n",
      "Precision is:  0.8554216867469879\n",
      "true postive rate :  0.7244897959183674\n",
      "true negative rate:  0.9997889701744513\n",
      "Accuracy Score:  0.9993153330290369\n",
      "Specificity is:  0.9997889701744513\n",
      "Sensitivity is:  0.7244897959183674\n",
      "Recall Score :  0.8621393830464094\n",
      "f1 score is:  0.7845303867403315\n",
      "Classification Report for OD - ORIGINAL DATASET is as follows\n",
      "              precision    recall  f1-score   support\n",
      "\n",
      "           0       1.00      1.00      1.00     56864\n",
      "           1       0.86      0.72      0.78        98\n",
      "\n",
      "    accuracy                           1.00     56962\n",
      "   macro avg       0.93      0.86      0.89     56962\n",
      "weighted avg       1.00      1.00      1.00     56962\n",
      "\n"
     ]
    }
   ],
   "source": [
    "training_prediction('OD - ORIGINAL DATASET', model, X_ori_train, y_ori_train, X_ori_test, y_ori_test)"
   ]
  },
  {
   "cell_type": "code",
   "execution_count": 52,
   "id": "cd5fa9f4",
   "metadata": {},
   "outputs": [
    {
     "name": "stdout",
     "output_type": "stream",
     "text": [
      "Confusion matrix :  [[98  1]\n",
      " [ 5 93]]\n",
      "Precision is:  0.9893617021276596\n",
      "true postive rate :  0.9489795918367347\n",
      "true negative rate:  0.98989898989899\n",
      "Accuracy Score:  0.9695431472081218\n",
      "Specificity is:  0.98989898989899\n",
      "Sensitivity is:  0.9489795918367347\n",
      "Recall Score :  0.9694392908678624\n",
      "f1 score is:  0.96875\n",
      "Classification Report for LR - Random Under Sampling is as follows\n",
      "              precision    recall  f1-score   support\n",
      "\n",
      "           0       0.95      0.99      0.97        99\n",
      "           1       0.99      0.95      0.97        98\n",
      "\n",
      "    accuracy                           0.97       197\n",
      "   macro avg       0.97      0.97      0.97       197\n",
      "weighted avg       0.97      0.97      0.97       197\n",
      "\n"
     ]
    }
   ],
   "source": [
    "training_prediction('LR - Random Under Sampling', model, X_under_train, y_under_train, X_under_test, y_under_test)"
   ]
  },
  {
   "cell_type": "code",
   "execution_count": 53,
   "id": "8d86470a",
   "metadata": {},
   "outputs": [
    {
     "name": "stdout",
     "output_type": "stream",
     "text": [
      "Confusion matrix :  [[55643  1107]\n",
      " [ 2617 54359]]\n",
      "Precision is:  0.9800418274258104\n",
      "true postive rate :  0.9540683796686324\n",
      "true negative rate:  0.9804933920704846\n",
      "Accuracy Score:  0.9672546295482124\n",
      "Specificity is:  0.9804933920704846\n",
      "Sensitivity is:  0.9540683796686324\n",
      "Recall Score :  0.9672808858695585\n",
      "f1 score is:  0.9668807029401824\n",
      "Classification Report for LR - Random Over Sampling is as follows\n",
      "              precision    recall  f1-score   support\n",
      "\n",
      "           0       0.96      0.98      0.97     56750\n",
      "           1       0.98      0.95      0.97     56976\n",
      "\n",
      "    accuracy                           0.97    113726\n",
      "   macro avg       0.97      0.97      0.97    113726\n",
      "weighted avg       0.97      0.97      0.97    113726\n",
      "\n"
     ]
    }
   ],
   "source": [
    "training_prediction('LR - Random Over Sampling', model, X_over_train, y_over_train, X_over_test, y_over_test)"
   ]
  },
  {
   "cell_type": "code",
   "execution_count": 50,
   "id": "f7459505",
   "metadata": {},
   "outputs": [
    {
     "name": "stdout",
     "output_type": "stream",
     "text": [
      "Confusion matrix :  [[56038   712]\n",
      " [ 1596 55380]]\n",
      "Precision is:  0.9873065677815018\n",
      "true postive rate :  0.9719882055602359\n",
      "true negative rate:  0.9874537444933921\n",
      "Accuracy Score:  0.979705608216239\n",
      "Specificity is:  0.9874537444933921\n",
      "Sensitivity is:  0.9719882055602359\n",
      "Recall Score :  0.979720975026814\n",
      "f1 score is:  0.9795875048643294\n",
      "Classification Report for RS-OVERSAMPLING USING SMOTE is as follows\n",
      "              precision    recall  f1-score   support\n",
      "\n",
      "           0       0.97      0.99      0.98     56750\n",
      "           1       0.99      0.97      0.98     56976\n",
      "\n",
      "    accuracy                           0.98    113726\n",
      "   macro avg       0.98      0.98      0.98    113726\n",
      "weighted avg       0.98      0.98      0.98    113726\n",
      "\n"
     ]
    }
   ],
   "source": [
    "training_prediction('RS-OVERSAMPLING USING SMOTE', model, X_sm_train, y_sm_train, X_sm_test, y_sm_test)"
   ]
  },
  {
   "cell_type": "markdown",
   "id": "99c3153f",
   "metadata": {},
   "source": [
    "# GRADIENT BOOSTING CLASSIFIER"
   ]
  },
  {
   "cell_type": "code",
   "execution_count": 38,
   "id": "ca520687",
   "metadata": {},
   "outputs": [],
   "source": [
    "from sklearn.ensemble import GradientBoostingClassifier\n",
    "GBModel=GradientBoostingClassifier()"
   ]
  },
  {
   "cell_type": "code",
   "execution_count": 39,
   "id": "81cc93c7",
   "metadata": {},
   "outputs": [
    {
     "name": "stdout",
     "output_type": "stream",
     "text": [
      "Confusion matrix :  [[56843    21]\n",
      " [   39    59]]\n",
      "Precision is:  0.7375\n",
      "true postive rate :  0.6020408163265306\n",
      "true negative rate:  0.9996306978052898\n",
      "Accuracy Score:  0.9989466661985184\n",
      "Specificity is:  0.9996306978052898\n",
      "Sensitivity is:  0.6020408163265306\n",
      "Recall Score :  0.8008357570659101\n",
      "f1 score is:  0.6629213483146067\n",
      "Classification Report for OD - ORIGINAL DATASET is as follows\n",
      "              precision    recall  f1-score   support\n",
      "\n",
      "           0       1.00      1.00      1.00     56864\n",
      "           1       0.74      0.60      0.66        98\n",
      "\n",
      "    accuracy                           1.00     56962\n",
      "   macro avg       0.87      0.80      0.83     56962\n",
      "weighted avg       1.00      1.00      1.00     56962\n",
      "\n"
     ]
    }
   ],
   "source": [
    "training_prediction('OD - ORIGINAL DATASET', GBModel, X_ori_train, y_ori_train, X_ori_test, y_ori_test)"
   ]
  },
  {
   "cell_type": "code",
   "execution_count": 40,
   "id": "574cabc9",
   "metadata": {},
   "outputs": [
    {
     "name": "stdout",
     "output_type": "stream",
     "text": [
      "Confusion matrix :  [[98  1]\n",
      " [ 7 91]]\n",
      "Precision is:  0.9891304347826086\n",
      "true postive rate :  0.9285714285714286\n",
      "true negative rate:  0.98989898989899\n",
      "Accuracy Score:  0.9593908629441624\n",
      "Specificity is:  0.98989898989899\n",
      "Sensitivity is:  0.9285714285714286\n",
      "Recall Score :  0.9592352092352092\n",
      "f1 score is:  0.9578947368421052\n",
      "Classification Report for LR - Random Under Sampling is as follows\n",
      "              precision    recall  f1-score   support\n",
      "\n",
      "           0       0.93      0.99      0.96        99\n",
      "           1       0.99      0.93      0.96        98\n",
      "\n",
      "    accuracy                           0.96       197\n",
      "   macro avg       0.96      0.96      0.96       197\n",
      "weighted avg       0.96      0.96      0.96       197\n",
      "\n"
     ]
    }
   ],
   "source": [
    "training_prediction('LR - Random Under Sampling', GBModel, X_under_train, y_under_train, X_under_test, y_under_test)"
   ]
  },
  {
   "cell_type": "code",
   "execution_count": 41,
   "id": "ab8f74f5",
   "metadata": {},
   "outputs": [
    {
     "name": "stdout",
     "output_type": "stream",
     "text": [
      "Confusion matrix :  [[56262   488]\n",
      " [  468 56508]]\n",
      "Precision is:  0.9914379956488175\n",
      "true postive rate :  0.9917860151642797\n",
      "true negative rate:  0.9914008810572688\n",
      "Accuracy Score:  0.9915938307862758\n",
      "Specificity is:  0.9914008810572688\n",
      "Sensitivity is:  0.9917860151642797\n",
      "Recall Score :  0.9915934481107742\n",
      "f1 score is:  0.9916119748710209\n",
      "Classification Report for LR - Random Over Sampling is as follows\n",
      "              precision    recall  f1-score   support\n",
      "\n",
      "           0       0.99      0.99      0.99     56750\n",
      "           1       0.99      0.99      0.99     56976\n",
      "\n",
      "    accuracy                           0.99    113726\n",
      "   macro avg       0.99      0.99      0.99    113726\n",
      "weighted avg       0.99      0.99      0.99    113726\n",
      "\n"
     ]
    }
   ],
   "source": [
    "training_prediction('LR - Random Over Sampling', GBModel, X_over_train, y_over_train, X_over_test, y_over_test)"
   ]
  },
  {
   "cell_type": "code",
   "execution_count": 42,
   "id": "cac75a39",
   "metadata": {},
   "outputs": [
    {
     "name": "stdout",
     "output_type": "stream",
     "text": [
      "Confusion matrix :  [[56359   391]\n",
      " [ 1079 55897]]\n",
      "Precision is:  0.9930535815804434\n",
      "true postive rate :  0.981062201628756\n",
      "true negative rate:  0.9931101321585903\n",
      "Accuracy Score:  0.9870741958742943\n",
      "Specificity is:  0.9931101321585903\n",
      "Sensitivity is:  0.981062201628756\n",
      "Recall Score :  0.9870861668936732\n",
      "f1 score is:  0.9870214719593162\n",
      "Classification Report for RS-OVERSAMPLING USING SMOTE is as follows\n",
      "              precision    recall  f1-score   support\n",
      "\n",
      "           0       0.98      0.99      0.99     56750\n",
      "           1       0.99      0.98      0.99     56976\n",
      "\n",
      "    accuracy                           0.99    113726\n",
      "   macro avg       0.99      0.99      0.99    113726\n",
      "weighted avg       0.99      0.99      0.99    113726\n",
      "\n"
     ]
    }
   ],
   "source": [
    "training_prediction('RS-OVERSAMPLING USING SMOTE', GBModel, X_sm_train, y_sm_train, X_sm_test, y_sm_test)"
   ]
  },
  {
   "cell_type": "markdown",
   "id": "5d475a8f",
   "metadata": {},
   "source": [
    "# KNN CLASSIFIER"
   ]
  },
  {
   "cell_type": "code",
   "execution_count": 43,
   "id": "d5e3183a",
   "metadata": {},
   "outputs": [],
   "source": [
    "from sklearn.neighbors import KNeighborsClassifier\n",
    "classifier = KNeighborsClassifier(n_neighbors=5)\n"
   ]
  },
  {
   "cell_type": "code",
   "execution_count": 44,
   "id": "4c23d051",
   "metadata": {},
   "outputs": [
    {
     "name": "stdout",
     "output_type": "stream",
     "text": [
      "Confusion matrix :  [[56864     0]\n",
      " [   93     5]]\n",
      "Precision is:  1.0\n",
      "true postive rate :  0.05102040816326531\n",
      "true negative rate:  1.0\n",
      "Accuracy Score:  0.9983673326077034\n",
      "Specificity is:  1.0\n",
      "Sensitivity is:  0.05102040816326531\n",
      "Recall Score :  0.5255102040816326\n",
      "f1 score is:  0.09708737864077671\n",
      "Classification Report for OD - ORIGINAL DATASET is as follows\n",
      "              precision    recall  f1-score   support\n",
      "\n",
      "           0       1.00      1.00      1.00     56864\n",
      "           1       1.00      0.05      0.10        98\n",
      "\n",
      "    accuracy                           1.00     56962\n",
      "   macro avg       1.00      0.53      0.55     56962\n",
      "weighted avg       1.00      1.00      1.00     56962\n",
      "\n"
     ]
    }
   ],
   "source": [
    "training_prediction('OD - ORIGINAL DATASET', classifier, X_ori_train, y_ori_train, X_ori_test, y_ori_test)\n"
   ]
  },
  {
   "cell_type": "code",
   "execution_count": 45,
   "id": "a7027a0d",
   "metadata": {},
   "outputs": [
    {
     "name": "stdout",
     "output_type": "stream",
     "text": [
      "Confusion matrix :  [[99  0]\n",
      " [15 83]]\n",
      "Precision is:  1.0\n",
      "true postive rate :  0.8469387755102041\n",
      "true negative rate:  1.0\n",
      "Accuracy Score:  0.9238578680203046\n",
      "Specificity is:  1.0\n",
      "Sensitivity is:  0.8469387755102041\n",
      "Recall Score :  0.9234693877551021\n",
      "f1 score is:  0.9171270718232044\n",
      "Classification Report for LR - Random Under Sampling is as follows\n",
      "              precision    recall  f1-score   support\n",
      "\n",
      "           0       0.87      1.00      0.93        99\n",
      "           1       1.00      0.85      0.92        98\n",
      "\n",
      "    accuracy                           0.92       197\n",
      "   macro avg       0.93      0.92      0.92       197\n",
      "weighted avg       0.93      0.92      0.92       197\n",
      "\n"
     ]
    }
   ],
   "source": [
    "training_prediction('LR - Random Under Sampling', classifier, X_under_train, y_under_train, X_under_test, y_under_test)\n"
   ]
  },
  {
   "cell_type": "code",
   "execution_count": 46,
   "id": "9f3064d2",
   "metadata": {},
   "outputs": [
    {
     "name": "stdout",
     "output_type": "stream",
     "text": [
      "Confusion matrix :  [[56631   119]\n",
      " [    0 56976]]\n",
      "Precision is:  0.9979157544443471\n",
      "true postive rate :  1.0\n",
      "true negative rate:  0.9979030837004406\n",
      "Accuracy Score:  0.9989536253803\n",
      "Specificity is:  0.9979030837004406\n",
      "Sensitivity is:  1.0\n",
      "Recall Score :  0.9989515418502203\n",
      "f1 score is:  0.9989567900693428\n",
      "Classification Report for LR - Random Over Sampling is as follows\n",
      "              precision    recall  f1-score   support\n",
      "\n",
      "           0       1.00      1.00      1.00     56750\n",
      "           1       1.00      1.00      1.00     56976\n",
      "\n",
      "    accuracy                           1.00    113726\n",
      "   macro avg       1.00      1.00      1.00    113726\n",
      "weighted avg       1.00      1.00      1.00    113726\n",
      "\n"
     ]
    }
   ],
   "source": [
    "training_prediction('LR - Random Over Sampling', classifier, X_over_train, y_over_train, X_over_test, y_over_test)\n"
   ]
  },
  {
   "cell_type": "code",
   "execution_count": 47,
   "id": "948b9ef3",
   "metadata": {},
   "outputs": [
    {
     "name": "stdout",
     "output_type": "stream",
     "text": [
      "Confusion matrix :  [[53841  2909]\n",
      " [ 1290 55686]]\n",
      "Precision is:  0.9503541257786501\n",
      "true postive rate :  0.9773588879528222\n",
      "true negative rate:  0.9487400881057269\n",
      "Accuracy Score:  0.9630779241334435\n",
      "Specificity is:  0.9487400881057269\n",
      "Sensitivity is:  0.9773588879528222\n",
      "Recall Score :  0.9630494880292746\n",
      "f1 score is:  0.9636673559976119\n",
      "Classification Report for RS-OVERSAMPLING USING SMOTE is as follows\n",
      "              precision    recall  f1-score   support\n",
      "\n",
      "           0       0.98      0.95      0.96     56750\n",
      "           1       0.95      0.98      0.96     56976\n",
      "\n",
      "    accuracy                           0.96    113726\n",
      "   macro avg       0.96      0.96      0.96    113726\n",
      "weighted avg       0.96      0.96      0.96    113726\n",
      "\n"
     ]
    }
   ],
   "source": [
    "training_prediction('RS-OVERSAMPLING USING SMOTE', classifier, X_sm_train, y_sm_train, X_sm_test, y_sm_test)"
   ]
  },
  {
   "cell_type": "markdown",
   "id": "8c618770",
   "metadata": {},
   "source": [
    "# END OF THIS PROJECT"
   ]
  }
 ],
 "metadata": {
  "kernelspec": {
   "display_name": "Python 3 (ipykernel)",
   "language": "python",
   "name": "python3"
  },
  "language_info": {
   "codemirror_mode": {
    "name": "ipython",
    "version": 3
   },
   "file_extension": ".py",
   "mimetype": "text/x-python",
   "name": "python",
   "nbconvert_exporter": "python",
   "pygments_lexer": "ipython3",
   "version": "3.9.7"
  }
 },
 "nbformat": 4,
 "nbformat_minor": 5
}
